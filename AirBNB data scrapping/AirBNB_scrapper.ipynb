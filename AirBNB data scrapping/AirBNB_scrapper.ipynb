{
 "cells": [
  {
   "cell_type": "markdown",
   "id": "a9fb011e-1f57-4eb9-b781-6b33ae7467be",
   "metadata": {},
   "source": [
    "# AirBNB web scraping"
   ]
  },
  {
   "cell_type": "markdown",
   "id": "683a5314-8d12-4034-8ff7-04a1ece8fd15",
   "metadata": {},
   "source": [
    "### Install BeautifulSoap library"
   ]
  },
  {
   "cell_type": "code",
   "execution_count": 1,
   "id": "e551e991-5eaf-4315-aa11-11def63e080d",
   "metadata": {},
   "outputs": [
    {
     "name": "stdout",
     "output_type": "stream",
     "text": [
      "Requirement already satisfied: beautifulsoup4 in c:\\users\\sarth\\appdata\\local\\programs\\python\\python39\\lib\\site-packages (4.12.3)\n",
      "Requirement already satisfied: soupsieve>1.2 in c:\\users\\sarth\\appdata\\local\\programs\\python\\python39\\lib\\site-packages (from beautifulsoup4) (2.6)\n"
     ]
    }
   ],
   "source": [
    "!pip install beautifulsoup4"
   ]
  },
  {
   "cell_type": "markdown",
   "id": "90a72440-2c86-41be-8451-be4ca4ddc377",
   "metadata": {},
   "source": [
    "### getting page link"
   ]
  },
  {
   "cell_type": "code",
   "execution_count": 60,
   "id": "2f10ac9c-904b-4b4c-9283-f78451a21797",
   "metadata": {},
   "outputs": [],
   "source": [
    "import requests\n",
    "import pandas as pd"
   ]
  },
  {
   "cell_type": "code",
   "execution_count": 61,
   "id": "c346b057-8761-441d-83e4-740cbc1f2d9c",
   "metadata": {},
   "outputs": [],
   "source": [
    "url = \"https://www.airbnb.co.in/s/Pune/homes?place_id=ChIJQ97RPE_AwjsR5zbDDbo3wHI&refinement_paths%5B%5D=%2Fhomes&flexible_trip_lengths%5B%5D=weekend_trip&date_picker_type=FLEXIBLE_DATES&search_type=HOMEPAGE_CAROUSEL_CLICK\""
   ]
  },
  {
   "cell_type": "code",
   "execution_count": 62,
   "id": "68e5da08-6da2-4661-9729-34bfa84698db",
   "metadata": {},
   "outputs": [
    {
     "name": "stdout",
     "output_type": "stream",
     "text": [
      "<Response [200]>\n"
     ]
    }
   ],
   "source": [
    "r = requests.get(url)\n",
    "print(r)"
   ]
  },
  {
   "cell_type": "code",
   "execution_count": 63,
   "id": "6489e5e0-e948-4f94-b6b8-5f3b50693d67",
   "metadata": {},
   "outputs": [],
   "source": [
    "from bs4 import BeautifulSoup\n",
    "soup = BeautifulSoup(r.text, \"lxml\")"
   ]
  },
  {
   "cell_type": "markdown",
   "id": "baced94d-0ffa-4462-a0c3-2441bb3ed9e1",
   "metadata": {},
   "source": [
    "### getting next page link"
   ]
  },
  {
   "cell_type": "code",
   "execution_count": 64,
   "id": "f7e47cba-496e-42dd-b3e9-e9b2982c5c90",
   "metadata": {},
   "outputs": [
    {
     "name": "stdout",
     "output_type": "stream",
     "text": [
      "https://www.airbnb.co.in//s/Pune/homes?place_id=ChIJQ97RPE_AwjsR5zbDDbo3wHI&refinement_paths%5B%5D=%2Fhomes&flexible_trip_lengths%5B%5D=weekend_trip&date_picker_type=flexible_dates&search_type=HOMEPAGE_CAROUSEL_CLICK&query=Pune&monthly_start_date=2025-07-01&monthly_length=3&monthly_end_date=2025-10-01&search_mode=regular_search&price_filter_input_type=2&price_filter_num_nights=2&channel=EXPLORE&federated_search_session_id=5649f41b-1f02-468f-a65e-0b064bba4863&pagination_search=true&cursor=eyJzZWN0aW9uX29mZnNldCI6MCwiaXRlbXNfb2Zmc2V0IjoxOCwidmVyc2lvbiI6MX0%3D\n"
     ]
    }
   ],
   "source": [
    "next_page = soup.find(\"a\", {\"aria-label\" : \"Next\"}).get(\"href\")\n",
    "cnp = \"https://www.airbnb.co.in/\" + next_page\n",
    "print(cnp)"
   ]
  },
  {
   "cell_type": "markdown",
   "id": "37ccf5f6-521d-4e96-9ae7-15adbece23ca",
   "metadata": {},
   "source": [
    "### creating empty list to store values"
   ]
  },
  {
   "cell_type": "code",
   "execution_count": 65,
   "id": "bfe41d06-ec78-4735-8b99-44a3ad79abea",
   "metadata": {},
   "outputs": [],
   "source": [
    "name_list = []\n",
    "price_list = []\n",
    "review_list = []"
   ]
  },
  {
   "cell_type": "markdown",
   "id": "18b554f8-bb9b-48e1-94f7-e9c513c6740e",
   "metadata": {},
   "source": [
    "### Getting data from the website"
   ]
  },
  {
   "cell_type": "code",
   "execution_count": 66,
   "id": "6357f590-8674-4ed9-a600-6fe7cbccef90",
   "metadata": {},
   "outputs": [
    {
     "name": "stdout",
     "output_type": "stream",
     "text": [
      "Name:  270\n",
      "price:  238\n",
      "review:  269\n"
     ]
    }
   ],
   "source": [
    "try:\n",
    "    while True:\n",
    "        # Extract all names (find_all instead of find)\n",
    "        names = soup.find_all(\"div\", {\n",
    "            \"class\": \"t1jojoys atm_g3_1kw7nm4 atm_ks_15vqwwr atm_sq_1l2sidv atm_9s_cj1kg8 atm_6w_1e54zos atm_fy_1vgr820 atm_7l_jt7fhx atm_cs_10d11i2 atm_w4_1eetg7c atm_ks_zryt35__1rgatj2 dir dir-ltr\"\n",
    "        })\n",
    "        for i in names:\n",
    "            name_list.append(i.get_text(strip=True))\n",
    "\n",
    "        # Extract all reviews\n",
    "        review = soup.find_all(\"span\", {\"class\": \"a8jt5op atm_3f_idpfg4 atm_7h_hxbz6r atm_7i_ysn8ba atm_e2_t94yts atm_ks_zryt35 atm_l8_idpfg4 atm_vv_1q9ccgz atm_vy_t94yts au0q88m atm_mk_stnw88 atm_tk_idpfg4 dir dir-ltr\"})  # update this if necessary\n",
    "        for i in review:\n",
    "            review_list.append(i.get_text(strip=True))\n",
    "\n",
    "        # Extract all prices\n",
    "        price = soup.find_all(\"span\", {\"class\": \"a8jt5op atm_3f_idpfg4 atm_7h_hxbz6r atm_7i_ysn8ba atm_e2_t94yts atm_ks_zryt35 atm_l8_idpfg4 atm_vv_1q9ccgz atm_vy_t94yts a1fdgz01 atm_mk_stnw88 atm_tk_idpfg4 dir dir-ltr\"})  # update this if necessary\n",
    "        for i in price:\n",
    "            price_list.append(i.get_text(strip=True))\n",
    "\n",
    "        # Find the next page link\n",
    "        next_button = soup.find(\"a\", {\"aria-label\": \"Next\"})\n",
    "        if not next_button:\n",
    "            break  # No more pages\n",
    "\n",
    "        next_page = next_button.get(\"href\")\n",
    "        cnp = \"https://www.airbnb.co.in\" + next_page\n",
    "\n",
    "        # Fetch next page\n",
    "        r = requests.get(cnp)\n",
    "        soup = BeautifulSoup(r.text, \"lxml\")\n",
    "\n",
    "except Exception as e:\n",
    "    print(\"Error occurred:\", e)\n",
    "print(\"Name: \", len(name_list))\n",
    "print(\"price: \", len(price_list))\n",
    "print(\"review: \", len(review_list))"
   ]
  },
  {
   "cell_type": "code",
   "execution_count": 67,
   "id": "a62e33e3-deff-49a3-be1e-ce1325dbf0d8",
   "metadata": {},
   "outputs": [
    {
     "data": {
      "text/html": [
       "<div>\n",
       "<style scoped>\n",
       "    .dataframe tbody tr th:only-of-type {\n",
       "        vertical-align: middle;\n",
       "    }\n",
       "\n",
       "    .dataframe tbody tr th {\n",
       "        vertical-align: top;\n",
       "    }\n",
       "\n",
       "    .dataframe thead th {\n",
       "        text-align: right;\n",
       "    }\n",
       "</style>\n",
       "<table border=\"1\" class=\"dataframe\">\n",
       "  <thead>\n",
       "    <tr style=\"text-align: right;\">\n",
       "      <th></th>\n",
       "      <th>Name</th>\n",
       "      <th>Review</th>\n",
       "      <th>Price</th>\n",
       "    </tr>\n",
       "  </thead>\n",
       "  <tbody>\n",
       "    <tr>\n",
       "      <th>0</th>\n",
       "      <td>Flat in Gahunje</td>\n",
       "      <td>4.9 out of 5 average rating,  121 reviews</td>\n",
       "      <td>₹6,149 for 2 nights</td>\n",
       "    </tr>\n",
       "    <tr>\n",
       "      <th>1</th>\n",
       "      <td>Apartment in Pune</td>\n",
       "      <td>5.0 out of 5 average rating,  4 reviews</td>\n",
       "      <td>₹5,793 for 2 nights</td>\n",
       "    </tr>\n",
       "    <tr>\n",
       "      <th>2</th>\n",
       "      <td>Flat in Pune</td>\n",
       "      <td>4.9 out of 5 average rating,  49 reviews</td>\n",
       "      <td>₹4,793 for 2 nights</td>\n",
       "    </tr>\n",
       "    <tr>\n",
       "      <th>3</th>\n",
       "      <td>Flat in Pune</td>\n",
       "      <td>5.0 out of 5 average rating,  10 reviews</td>\n",
       "      <td>₹4,109 for 2 nights</td>\n",
       "    </tr>\n",
       "    <tr>\n",
       "      <th>4</th>\n",
       "      <td>Guest suite in Pune</td>\n",
       "      <td>4.79 out of 5 average rating,  67 reviews</td>\n",
       "      <td>₹5,033 for 2 nights</td>\n",
       "    </tr>\n",
       "    <tr>\n",
       "      <th>...</th>\n",
       "      <td>...</td>\n",
       "      <td>...</td>\n",
       "      <td>...</td>\n",
       "    </tr>\n",
       "    <tr>\n",
       "      <th>265</th>\n",
       "      <td>Flat in Pimpri-Chinchwad</td>\n",
       "      <td>4.91 out of 5 average rating,  32 reviews</td>\n",
       "      <td>NaN</td>\n",
       "    </tr>\n",
       "    <tr>\n",
       "      <th>266</th>\n",
       "      <td>Flat in Pune</td>\n",
       "      <td>4.81 out of 5 average rating,  47 reviews</td>\n",
       "      <td>NaN</td>\n",
       "    </tr>\n",
       "    <tr>\n",
       "      <th>267</th>\n",
       "      <td>Cabin in Nadhal</td>\n",
       "      <td>4.96 out of 5 average rating,  26 reviews</td>\n",
       "      <td>NaN</td>\n",
       "    </tr>\n",
       "    <tr>\n",
       "      <th>268</th>\n",
       "      <td>Flat in Pune</td>\n",
       "      <td>4.92 out of 5 average rating,  331 reviews</td>\n",
       "      <td>NaN</td>\n",
       "    </tr>\n",
       "    <tr>\n",
       "      <th>269</th>\n",
       "      <td>Home in Pune</td>\n",
       "      <td>NaN</td>\n",
       "      <td>NaN</td>\n",
       "    </tr>\n",
       "  </tbody>\n",
       "</table>\n",
       "<p>270 rows × 3 columns</p>\n",
       "</div>"
      ],
      "text/plain": [
       "                         Name                                      Review  \\\n",
       "0             Flat in Gahunje   4.9 out of 5 average rating,  121 reviews   \n",
       "1           Apartment in Pune     5.0 out of 5 average rating,  4 reviews   \n",
       "2                Flat in Pune    4.9 out of 5 average rating,  49 reviews   \n",
       "3                Flat in Pune    5.0 out of 5 average rating,  10 reviews   \n",
       "4         Guest suite in Pune   4.79 out of 5 average rating,  67 reviews   \n",
       "..                        ...                                         ...   \n",
       "265  Flat in Pimpri-Chinchwad   4.91 out of 5 average rating,  32 reviews   \n",
       "266              Flat in Pune   4.81 out of 5 average rating,  47 reviews   \n",
       "267           Cabin in Nadhal   4.96 out of 5 average rating,  26 reviews   \n",
       "268              Flat in Pune  4.92 out of 5 average rating,  331 reviews   \n",
       "269              Home in Pune                                         NaN   \n",
       "\n",
       "                   Price  \n",
       "0    ₹6,149 for 2 nights  \n",
       "1    ₹5,793 for 2 nights  \n",
       "2    ₹4,793 for 2 nights  \n",
       "3    ₹4,109 for 2 nights  \n",
       "4    ₹5,033 for 2 nights  \n",
       "..                   ...  \n",
       "265                  NaN  \n",
       "266                  NaN  \n",
       "267                  NaN  \n",
       "268                  NaN  \n",
       "269                  NaN  \n",
       "\n",
       "[270 rows x 3 columns]"
      ]
     },
     "execution_count": 67,
     "metadata": {},
     "output_type": "execute_result"
    }
   ],
   "source": [
    "df = pd.DataFrame({\"Name\" : pd.Series(name_list), \"Review\" : pd.Series(review_list), \"Price\" : pd.Series(price_list)})\n",
    "df"
   ]
  },
  {
   "cell_type": "code",
   "execution_count": 70,
   "id": "54ca91f9-5709-41e3-9273-9429b99e8b66",
   "metadata": {},
   "outputs": [
    {
     "data": {
      "text/html": [
       "<div>\n",
       "<style scoped>\n",
       "    .dataframe tbody tr th:only-of-type {\n",
       "        vertical-align: middle;\n",
       "    }\n",
       "\n",
       "    .dataframe tbody tr th {\n",
       "        vertical-align: top;\n",
       "    }\n",
       "\n",
       "    .dataframe thead th {\n",
       "        text-align: right;\n",
       "    }\n",
       "</style>\n",
       "<table border=\"1\" class=\"dataframe\">\n",
       "  <thead>\n",
       "    <tr style=\"text-align: right;\">\n",
       "      <th></th>\n",
       "      <th>Name</th>\n",
       "      <th>Review</th>\n",
       "      <th>Price</th>\n",
       "    </tr>\n",
       "  </thead>\n",
       "  <tbody>\n",
       "    <tr>\n",
       "      <th>0</th>\n",
       "      <td>Flat in Gahunje</td>\n",
       "      <td>4.9 out of 5 average rating,  121 reviews</td>\n",
       "      <td>₹6,149 for 2 nights</td>\n",
       "    </tr>\n",
       "    <tr>\n",
       "      <th>1</th>\n",
       "      <td>Apartment in Pune</td>\n",
       "      <td>5.0 out of 5 average rating,  4 reviews</td>\n",
       "      <td>₹5,793 for 2 nights</td>\n",
       "    </tr>\n",
       "    <tr>\n",
       "      <th>2</th>\n",
       "      <td>Flat in Pune</td>\n",
       "      <td>4.9 out of 5 average rating,  49 reviews</td>\n",
       "      <td>₹4,793 for 2 nights</td>\n",
       "    </tr>\n",
       "    <tr>\n",
       "      <th>3</th>\n",
       "      <td>Flat in Pune</td>\n",
       "      <td>5.0 out of 5 average rating,  10 reviews</td>\n",
       "      <td>₹4,109 for 2 nights</td>\n",
       "    </tr>\n",
       "    <tr>\n",
       "      <th>4</th>\n",
       "      <td>Guest suite in Pune</td>\n",
       "      <td>4.79 out of 5 average rating,  67 reviews</td>\n",
       "      <td>₹5,033 for 2 nights</td>\n",
       "    </tr>\n",
       "    <tr>\n",
       "      <th>...</th>\n",
       "      <td>...</td>\n",
       "      <td>...</td>\n",
       "      <td>...</td>\n",
       "    </tr>\n",
       "    <tr>\n",
       "      <th>265</th>\n",
       "      <td>Flat in Pimpri-Chinchwad</td>\n",
       "      <td>4.91 out of 5 average rating,  32 reviews</td>\n",
       "      <td>NA</td>\n",
       "    </tr>\n",
       "    <tr>\n",
       "      <th>266</th>\n",
       "      <td>Flat in Pune</td>\n",
       "      <td>4.81 out of 5 average rating,  47 reviews</td>\n",
       "      <td>NA</td>\n",
       "    </tr>\n",
       "    <tr>\n",
       "      <th>267</th>\n",
       "      <td>Cabin in Nadhal</td>\n",
       "      <td>4.96 out of 5 average rating,  26 reviews</td>\n",
       "      <td>NA</td>\n",
       "    </tr>\n",
       "    <tr>\n",
       "      <th>268</th>\n",
       "      <td>Flat in Pune</td>\n",
       "      <td>4.92 out of 5 average rating,  331 reviews</td>\n",
       "      <td>NA</td>\n",
       "    </tr>\n",
       "    <tr>\n",
       "      <th>269</th>\n",
       "      <td>Home in Pune</td>\n",
       "      <td>NA</td>\n",
       "      <td>NA</td>\n",
       "    </tr>\n",
       "  </tbody>\n",
       "</table>\n",
       "<p>270 rows × 3 columns</p>\n",
       "</div>"
      ],
      "text/plain": [
       "                         Name                                      Review  \\\n",
       "0             Flat in Gahunje   4.9 out of 5 average rating,  121 reviews   \n",
       "1           Apartment in Pune     5.0 out of 5 average rating,  4 reviews   \n",
       "2                Flat in Pune    4.9 out of 5 average rating,  49 reviews   \n",
       "3                Flat in Pune    5.0 out of 5 average rating,  10 reviews   \n",
       "4         Guest suite in Pune   4.79 out of 5 average rating,  67 reviews   \n",
       "..                        ...                                         ...   \n",
       "265  Flat in Pimpri-Chinchwad   4.91 out of 5 average rating,  32 reviews   \n",
       "266              Flat in Pune   4.81 out of 5 average rating,  47 reviews   \n",
       "267           Cabin in Nadhal   4.96 out of 5 average rating,  26 reviews   \n",
       "268              Flat in Pune  4.92 out of 5 average rating,  331 reviews   \n",
       "269              Home in Pune                                          NA   \n",
       "\n",
       "                   Price  \n",
       "0    ₹6,149 for 2 nights  \n",
       "1    ₹5,793 for 2 nights  \n",
       "2    ₹4,793 for 2 nights  \n",
       "3    ₹4,109 for 2 nights  \n",
       "4    ₹5,033 for 2 nights  \n",
       "..                   ...  \n",
       "265                   NA  \n",
       "266                   NA  \n",
       "267                   NA  \n",
       "268                   NA  \n",
       "269                   NA  \n",
       "\n",
       "[270 rows x 3 columns]"
      ]
     },
     "execution_count": 70,
     "metadata": {},
     "output_type": "execute_result"
    }
   ],
   "source": [
    "df.fillna(\"NA\")"
   ]
  },
  {
   "cell_type": "code",
   "execution_count": 72,
   "id": "2a1f246f-4c33-40aa-aaf9-7c35fbe908a0",
   "metadata": {},
   "outputs": [],
   "source": [
    "df.to_csv(\"data.csv\")"
   ]
  }
 ],
 "metadata": {
  "kernelspec": {
   "display_name": "Python 3 (ipykernel)",
   "language": "python",
   "name": "python3"
  },
  "language_info": {
   "codemirror_mode": {
    "name": "ipython",
    "version": 3
   },
   "file_extension": ".py",
   "mimetype": "text/x-python",
   "name": "python",
   "nbconvert_exporter": "python",
   "pygments_lexer": "ipython3",
   "version": "3.9.13"
  }
 },
 "nbformat": 4,
 "nbformat_minor": 5
}
